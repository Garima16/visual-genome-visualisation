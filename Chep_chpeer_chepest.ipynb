{
 "cells": [
  {
   "cell_type": "code",
   "execution_count": 1,
   "metadata": {},
   "outputs": [],
   "source": [
    "import json\n",
    "\n",
    "# preps in which 1st object has greater z value than 2nd\n",
    "deeper_preps = [' behind ', ' inside ']\n",
    "\n",
    "# 1st has lower z value\n",
    "shallower_preps = [' outside ', ' front ', ' in front of ', ' against ']"
   ]
  },
  {
   "cell_type": "code",
   "execution_count": 2,
   "metadata": {},
   "outputs": [],
   "source": [
    "with open('subset_data\\\\region_graphs.json') as region_graph, open('subset_data\\objects.json') as objects:\n",
    "    data = json.load(region_graph)\n",
    "    mini = json.load(objects)\n"
   ]
  },
  {
   "cell_type": "code",
   "execution_count": 4,
   "metadata": {},
   "outputs": [
    {
     "ename": "SyntaxError",
     "evalue": "invalid syntax (pyplot.py, line 2387)",
     "output_type": "error",
     "traceback": [
      "\u001b[1;36m  File \u001b[1;32m\"D:\\Anaconda\\envs\\pr\\lib\\site-packages\\matplotlib\\pyplot.py\"\u001b[1;36m, line \u001b[1;32m2387\u001b[0m\n\u001b[1;33m    def acorr(x, *, data=None, **kwargs):\u001b[0m\n\u001b[1;37m                  ^\u001b[0m\n\u001b[1;31mSyntaxError\u001b[0m\u001b[1;31m:\u001b[0m invalid syntax\n"
     ]
    }
   ],
   "source": [
    "import matplotlib.pyplot as plt\n",
    "from matplotlib.patches import Rectangle\n",
    "from PIL import Image as PIL_Image\n",
    "import requests\n",
    "from StringIO import StringIO\n",
    "from visual_genome import models, api, local, utils"
   ]
  },
  {
   "cell_type": "code",
   "execution_count": null,
   "metadata": {},
   "outputs": [],
   "source": [
    "annotated_regions = []"
   ]
  },
  {
   "cell_type": "code",
   "execution_count": null,
   "metadata": {},
   "outputs": [],
   "source": [
    "def get_image_data(id):\n",
    "    \"\"\"\n",
    "    Get data about an image.\n",
    "    \"\"\"\n",
    "    \n",
    "    data = utils.retrieve_data('/api/v0/images/' + str(id))\n",
    "    \n",
    "    if 'detail' in data and data['detail'] == 'Not found.':\n",
    "        return None\n",
    "    image = utils.parse_image_data(data)\n",
    "\n",
    "    return image\n",
    "\n",
    "# print(get_image_data(10))"
   ]
  },
  {
   "cell_type": "code",
   "execution_count": null,
   "metadata": {},
   "outputs": [],
   "source": [
    "def annotate(region):\n",
    "#     print(region.keys())\n",
    "#     annotated_regions.append(region)\n",
    "#     image = get_image_data(region['image_id'])\n",
    "#     response = requests.get(image.url)\n",
    "#     img = PIL_Image.open(StringIO(response.content))\n",
    "#     plt.imshow(img)\n",
    "#     ax = plt.gca()\n",
    "    print(region['image_id'])\n",
    "# print(annotated_regions)\n",
    "\n",
    "def get_object_details(name, details, idx):\n",
    "    obj_to_add = [name,\\\n",
    "                      details[0],\\\n",
    "                      details[1],\\\n",
    "                      idx,\\\n",
    "                      details[2],\\\n",
    "                      details[3]\n",
    "                     ]\n",
    "    \n",
    "    return obj_to_add"
   ]
  },
  {
   "cell_type": "code",
   "execution_count": null,
   "metadata": {},
   "outputs": [],
   "source": [
    "fig = plt.gcf()\n",
    "fig.set_size_inches(18.5, 10.5)\n",
    "def visualize_regions(image, regions):\n",
    "    response = requests.get(image.url)\n",
    "    img = PIL_Image.open(StringIO(response.content))\n",
    "    plt.imshow(img)\n",
    "    ax = plt.gca()\n",
    "    for region in regions:\n",
    "        ax.add_patch(Rectangle((region.x, region.y),\n",
    "                               region.width,\n",
    "                               region.height,\n",
    "                               fill=False,\n",
    "                               edgecolor='red',\n",
    "                               linewidth=3))\n",
    "        ax.text(region.x, region.y, region.phrase, style='italic', bbox={'facecolor':'white', 'alpha':0.7, 'pad':10})\n",
    "    fig = plt.gcf()\n",
    "    plt.tick_params(labelbottom='off', labelleft='off')\n",
    "    plt.show()\n",
    "visualize_regions(image, regions[:8])"
   ]
  },
  {
   "cell_type": "code",
   "execution_count": null,
   "metadata": {},
   "outputs": [],
   "source": [
    "to_annotate = {}\n",
    "\n",
    "for image, objs in zip(data, mini):\n",
    "    wannabe_objetcs = {}\n",
    "    for o in objs['objects']:\n",
    "         wannabe_objetcs[o['names'][0]]=  (o['x'], o['y'], o['h'], o['w'])\n",
    "    regions = image['regions']\n",
    "    annotate_reg = []\n",
    "    annotate_shallow = []\n",
    "    annotate_deep = []\n",
    "    for region in regions:\n",
    "        region_added = False\n",
    "        for word in deeper_preps:\n",
    "            if word in region['phrase']:\n",
    "#                 print(region['phrase'])\n",
    "\n",
    "                temp = sorted(region['synsets'], key=lambda k: k['entity_idx_start'], reverse=True)\n",
    "                for idx, ele in enumerate(temp):\n",
    "                    low_life = ele['entity_name'].lower()\n",
    "                    if low_life in wannabe_objetcs.keys():\n",
    "                        if not region_added:\n",
    "                            annotate_reg.append(region)\n",
    "                            region_added = True\n",
    "                        obj_to_add = get_object_details(ele['entity_name'], wannabe_objetcs[low_life], idx)\n",
    "                        annotate_deep.append(obj_to_add)\n",
    "                        \n",
    "                        if idx == 0 :\n",
    "                            annotate_shallow.append(obj_to_add)\n",
    "                        else :\n",
    "                            annotate_deep.append(obj_to_add)\n",
    "                        \n",
    "#                         print(region['phrase'])\n",
    "                        \n",
    "#                         reg.appen(region)\n",
    "#                         annotate_obj.appen()\n",
    "#                         try:\n",
    "#                             to_annotate[region['image_id']].append(region)\n",
    "                        \n",
    "#                             annotate(region)\n",
    "#                         print(region['phrase'])\n",
    "                        \n",
    "                        super_string = ''\n",
    "                        super_string += ele['entity_name'] + ';'\n",
    "                        super_string += ' x = ' + str(wannabe_objetcs[low_life][0])\n",
    "                        super_string += ', y = ' + str(wannabe_objetcs[low_life][1])\n",
    "                        super_string += ', z = ' + str(idx)\n",
    "#                         print(super_string)\n",
    "#                 print('----xxx----')\n",
    "\n",
    "\n",
    "        for word in shallower_preps:\n",
    "            if word in region['phrase']:\n",
    "#                 print(region['phrase'])\n",
    "\n",
    "                temp = sorted(region['synsets'], key=lambda k: k['entity_idx_start'])\n",
    "                for idx, ele in enumerate(temp):\n",
    "                    low_life = ele['entity_name'].lower()\n",
    "                    if low_life in wannabe_objetcs:\n",
    "                        obj_to_add = get_object_details(ele['entity_name'], wannabe_objetcs[low_life],idx)\n",
    "                        if idx == 0 :\n",
    "                            annotate_shallow.append(obj_to_add)\n",
    "                        else :\n",
    "                            annotate_deep.append(obj_to_add)\n",
    "                        super_string = ''\n",
    "                        super_string += ele['entity_name'] + ';'\n",
    "                        super_string += ' x = ' + str(wannabe_objetcs[low_life][0])\n",
    "                        super_string += ', y = ' + str(wannabe_objetcs[low_life][1])\n",
    "                        super_string += ', z = ' + str(idx)\n",
    "#                         print(super_string)\n",
    "                print(annotate_shallow)\n",
    "                \n",
    "                print(\"-------\")\n",
    "                print(annotate_deep)\n",
    "                print(\"-----xxxxx----\")\n",
    "\n",
    "#                 print('----xxx----')\n",
    "#     print(annotate_reg, annotate_deep, annotate_shallow)"
   ]
  },
  {
   "cell_type": "code",
   "execution_count": null,
   "metadata": {},
   "outputs": [],
   "source": []
  }
 ],
 "metadata": {
  "kernelspec": {
   "display_name": "Python 2",
   "language": "python",
   "name": "python2"
  },
  "language_info": {
   "codemirror_mode": {
    "name": "ipython",
    "version": 2
   },
   "file_extension": ".py",
   "mimetype": "text/x-python",
   "name": "python",
   "nbconvert_exporter": "python",
   "pygments_lexer": "ipython2",
   "version": "2.7.16"
  }
 },
 "nbformat": 4,
 "nbformat_minor": 2
}
